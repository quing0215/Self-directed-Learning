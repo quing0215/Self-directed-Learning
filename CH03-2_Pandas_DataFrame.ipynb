{
 "cells": [
  {
   "cell_type": "raw",
   "id": "21472361",
   "metadata": {},
   "source": [
    "Pandas DataFrame物件: (1) numpy陣列一般化 (2)PYTHON字典的特殊化"
   ]
  },
  {
   "cell_type": "code",
   "execution_count": 7,
   "id": "8badf897",
   "metadata": {},
   "outputs": [
    {
     "name": "stdout",
     "output_type": "stream",
     "text": [
      "CA    423967\n",
      "TX    695662\n",
      "NY    141297\n",
      "FL    170312\n",
      "IL    149995\n",
      "dtype: int64\n",
      "    population    area\n",
      "CA    39250017  423967\n",
      "TX    27862596  695662\n",
      "NY    19745289  141297\n",
      "FL    20612439  170312\n",
      "IL    12801539  149995\n",
      "Index(['CA', 'TX', 'NY', 'FL', 'IL'], dtype='object')\n",
      "Index(['population', 'area'], dtype='object')\n"
     ]
    }
   ],
   "source": [
    "import pandas as pd\n",
    "\n",
    "area_dict = {'CA':423967, 'TX':695662, 'NY':141297, 'FL':170312, 'IL':149995} #python dict\n",
    "area = pd.Series(area_dict)\n",
    "print(area)\n",
    "\n",
    "population_dict = {'CA':39250017, 'TX':27862596, 'NY':19745289, 'FL':20612439, 'IL':12801539} #人\n",
    "population = pd.Series(population_dict)\n",
    "\n",
    "states = pd.DataFrame({'population':population, 'area':area})\n",
    "print(states)\n",
    "print(states.index)\n",
    "print(states.columns)"
   ]
  },
  {
   "cell_type": "code",
   "execution_count": 8,
   "id": "63153969",
   "metadata": {},
   "outputs": [
    {
     "name": "stdout",
     "output_type": "stream",
     "text": [
      "423967\n",
      "12801539\n"
     ]
    }
   ],
   "source": [
    "print(states['area']['CA']) #先找欄位，再去找index\n",
    "print(states['population']['IL'])"
   ]
  },
  {
   "cell_type": "code",
   "execution_count": 9,
   "id": "75beb123",
   "metadata": {},
   "outputs": [
    {
     "name": "stdout",
     "output_type": "stream",
     "text": [
      "        Fruit    Animal\n",
      "KHH  0.976502  0.664867\n",
      "TPE  0.426285  0.466187\n",
      "HUA  0.220661  0.847146\n"
     ]
    }
   ],
   "source": [
    "#Ex2: DataFrame建構\n",
    "import numpy as np\n",
    "import pandas as pd\n",
    "\n",
    "data = pd.DataFrame(np.random.rand(3,2),columns=['Fruit', 'Animal'],index=['KHH',\"TPE\",'HUA'])\n",
    "print(data)"
   ]
  },
  {
   "cell_type": "code",
   "execution_count": 10,
   "id": "402c28ee",
   "metadata": {},
   "outputs": [
    {
     "name": "stdout",
     "output_type": "stream",
     "text": [
      "[(0, 0., 0, 0) (0, 0., 0, 0) (0, 0., 0, 0)]\n",
      "   colA  colB  colC  colD\n",
      "0     0   0.0     0     0\n",
      "1     0   0.0     0     0\n",
      "2     0   0.0     0     0\n"
     ]
    }
   ],
   "source": [
    "#Ex3: DataFrame建構\n",
    "\n",
    "import numpy as np\n",
    "import pandas as pd\n",
    "A = np.zeros(3,dtype=[('colA','i8'), ('colB','f8'), ('colC','i8'), ('colD','i8')])\n",
    "print(A)\n",
    "\n",
    "data = pd.DataFrame(A)\n",
    "print(data)"
   ]
  },
  {
   "cell_type": "markdown",
   "id": "792e89fe",
   "metadata": {},
   "source": [
    "### Pandas Index物件使用\n",
    "\n",
    "    1. Series和DataFrame物件，都需要包含一個顯示index(row的名稱)引用來做資料與數據的修改\n",
    "    2. 如何建構一個有效的Pandas index\n",
    "    3. 索引為不可以改變陣列"
   ]
  },
  {
   "cell_type": "code",
   "execution_count": 11,
   "id": "f7e0a0d0",
   "metadata": {},
   "outputs": [
    {
     "name": "stdout",
     "output_type": "stream",
     "text": [
      "Index([2, 3, 5, 7, 11], dtype='int64')\n",
      "3\n",
      "Index([2, 5, 11], dtype='int64')\n",
      "索引的長度: 5\n",
      "索引的形狀 (5,)\n",
      "索引ndim: 1\n",
      "索引dtype: int64\n"
     ]
    }
   ],
   "source": [
    "ind = pd.Index([2,3,5,7,11])\n",
    "print(ind)\n",
    "print(ind[1]) #indexing\n",
    "print(ind[::2])\n",
    "\n",
    "# inde[0] = 99 -->{ERROR}資料索引不可以改變\n",
    "print(\"索引的長度:\", ind.size)\n",
    "print(\"索引的形狀\", ind.shape)\n",
    "print('索引ndim:', ind.ndim)\n",
    "print(\"索引dtype:\", ind.dtype)"
   ]
  },
  {
   "cell_type": "code",
   "execution_count": 26,
   "id": "0fb70930",
   "metadata": {},
   "outputs": [
    {
     "name": "stdout",
     "output_type": "stream",
     "text": [
      "Index([0, 0, 2, 4, 0, 1, 8], dtype='int64')\n",
      "Index([3, 6, 7, 7, 13, 15, 11], dtype='int64')\n",
      "Index([3, 6, 5, 3, 13, 14, 3], dtype='int64')\n"
     ]
    }
   ],
   "source": [
    "#Pandas物件用在跨資料集連接的操作\n",
    "\n",
    "indA = pd.Index([1,2,3,4,5,7,9,])\n",
    "indB = pd.Index([2,4,6,7,8,9,10])\n",
    "\n",
    "print(indA & indB) # 兩個資料集的交集\n",
    "print(indA | indB) # 兩個資料集的聯集\n",
    "print(indA ^ indB) # 兩個資料集的對稱差集"
   ]
  },
  {
   "cell_type": "markdown",
   "id": "a68211e8",
   "metadata": {},
   "source": [
    "### 資料索引(Indexing)與選取(Selection)"
   ]
  },
  {
   "cell_type": "code",
   "execution_count": 15,
   "id": "474dba38",
   "metadata": {},
   "outputs": [
    {
     "name": "stdout",
     "output_type": "stream",
     "text": [
      "30\n",
      "50\n",
      "資料集中有apple這個水果\n",
      "Index(['apple', 'banana', 'pear', 'mango', 'watermelon'], dtype='object')\n",
      "[('apple', 60), ('banana', 30), ('pear', 40), ('mango', 50), ('watermelon', 100)]\n",
      "apple          60\n",
      "banana         30\n",
      "pear           40\n",
      "mango          50\n",
      "watermelon    200\n",
      "dtype: int64\n"
     ]
    }
   ],
   "source": [
    "#series資料選取: 與python dict (key-value)互相對應\n",
    "\n",
    "import pandas as pd\n",
    "\n",
    "data = pd.Series([60, 30, 40, 50, 100], index=['apple','banana','pear','mango','watermelon'])\n",
    "print(data['banana'])\n",
    "print(data['mango'])\n",
    "\n",
    "if 'apple' in data:\n",
    "    print(\"資料集中有apple這個水果\")\n",
    "else:\n",
    "    print(\"沒有這個水果\")\n",
    "\n",
    "print(data.keys())\n",
    "print(list(data.items()))\n",
    "\n",
    "#可以做series資料的更改，但是不能做index更改\n",
    "data['watermelon'] = 200\n",
    "print(data)\n",
    "\n"
   ]
  },
  {
   "cell_type": "code",
   "execution_count": 16,
   "id": "693aa37d",
   "metadata": {},
   "outputs": [
    {
     "name": "stdout",
     "output_type": "stream",
     "text": [
      "apple     60\n",
      "banana    30\n",
      "pear      40\n",
      "dtype: int64\n",
      "============================================================\n",
      "apple     60\n",
      "banana    30\n",
      "pear      40\n",
      "dtype: int64\n",
      "============================================================\n",
      "apple    60\n",
      "pear     40\n",
      "mango    50\n",
      "dtype: int64\n",
      "mango    50\n",
      "apple    60\n",
      "pear     40\n",
      "dtype: int64\n"
     ]
    }
   ],
   "source": [
    "print(data['apple':'pear']) #界定需要的資料範圍\n",
    "print(\"=\"*60)\n",
    "print(data[0:3]) #用python slicing方式[start: stop but not include: step] *建議不要使用\n",
    "print(\"=\"*60)\n",
    "print(data[(data>30) & (data<100)]) #找出資料中數值>30且<100的資料\n",
    "\n",
    "print(data[['mango','apple','pear']]) #指定看特定index的資料\n"
   ]
  },
  {
   "cell_type": "code",
   "execution_count": 17,
   "id": "a1d068c4",
   "metadata": {},
   "outputs": [
    {
     "name": "stdout",
     "output_type": "stream",
     "text": [
      "60\n",
      "apple     60\n",
      "banana    30\n",
      "dtype: int64\n"
     ]
    }
   ],
   "source": [
    "import pandas as pd\n",
    "\n",
    "data = pd.Series([60, 30, 40, 50, 100], index=['apple','banana','pear','mango','watermelon'])\n",
    "print(data.loc['apple']) #data.loc:給欄位拿資料\n",
    "print(data.iloc[0:2]) #data.iloc:給索引的門牌位置抓資料"
   ]
  },
  {
   "cell_type": "markdown",
   "id": "4fa6dbe9",
   "metadata": {},
   "source": [
    "### DataFrame的資料選取"
   ]
  },
  {
   "cell_type": "code",
   "execution_count": 18,
   "id": "c0b350b1",
   "metadata": {},
   "outputs": [
    {
     "name": "stdout",
     "output_type": "stream",
     "text": [
      "      area      popu\n",
      "CA  423967  39250017\n",
      "TX  695662  27862596\n",
      "NY  141297  19745289\n",
      "FL  170312  20612439\n",
      "IL  149995  12801539\n"
     ]
    }
   ],
   "source": [
    "import pandas as pd\n",
    "\n",
    "area_dict = {'CA':423967, 'TX':695662, 'NY':141297, 'FL':170312, 'IL':149995} #python dict\n",
    "area = pd.Series(area_dict)\n",
    "\n",
    "population_dict = {'CA':39250017, 'TX':27862596, 'NY':19745289, 'FL':20612439, 'IL':12801539} #人\n",
    "population = pd.Series(population_dict)\n",
    "\n",
    "data = pd.DataFrame({'area':area, 'popu':population})\n",
    "print(data)"
   ]
  },
  {
   "cell_type": "code",
   "execution_count": 19,
   "id": "568db09a",
   "metadata": {},
   "outputs": [
    {
     "name": "stdout",
     "output_type": "stream",
     "text": [
      "CA    423967\n",
      "TX    695662\n",
      "NY    141297\n",
      "FL    170312\n",
      "IL    149995\n",
      "Name: area, dtype: int64\n",
      "============================================================\n",
      "CA    423967\n",
      "TX    695662\n",
      "NY    141297\n",
      "FL    170312\n",
      "IL    149995\n",
      "Name: area, dtype: int64\n",
      "============================================================\n",
      "      area      popu     density\n",
      "CA  423967  39250017   92.578000\n",
      "TX  695662  27862596   40.051916\n",
      "NY  141297  19745289  139.743158\n",
      "FL  170312  20612439  121.027520\n",
      "IL  149995  12801539   85.346438\n"
     ]
    }
   ],
   "source": [
    "#取得某一個欄位的所有資料:\n",
    "print(data.area)\n",
    "print(\"=\"*60)\n",
    "\n",
    "print(data['area'])\n",
    "print(\"=\"*60)\n",
    "\n",
    "#將欄位間運算結果成為另一個欄位資料\n",
    "data['density'] = data['popu'] / data['area']\n",
    "print(data)"
   ]
  },
  {
   "cell_type": "code",
   "execution_count": 20,
   "id": "36269b62",
   "metadata": {},
   "outputs": [
    {
     "name": "stdout",
     "output_type": "stream",
     "text": [
      "[[4.23967000e+05 3.92500170e+07 9.25780002e+01]\n",
      " [6.95662000e+05 2.78625960e+07 4.00519160e+01]\n",
      " [1.41297000e+05 1.97452890e+07 1.39743158e+02]\n",
      " [1.70312000e+05 2.06124390e+07 1.21027520e+02]\n",
      " [1.49995000e+05 1.28015390e+07 8.53464382e+01]]\n",
      "[4.23967000e+05 3.92500170e+07 9.25780002e+01]\n"
     ]
    }
   ],
   "source": [
    "data.values #去除index與欄位名稱，將每一個索引的數值，結合成為陣列\n",
    "print(data.values)\n",
    "print(data.values[0])"
   ]
  },
  {
   "cell_type": "code",
   "execution_count": 21,
   "id": "91f753a3",
   "metadata": {},
   "outputs": [
    {
     "name": "stdout",
     "output_type": "stream",
     "text": [
      "                   CA            TX            NY            FL            IL\n",
      "area     4.239670e+05  6.956620e+05  1.412970e+05  1.703120e+05  1.499950e+05\n",
      "popu     3.925002e+07  2.786260e+07  1.974529e+07  2.061244e+07  1.280154e+07\n",
      "density  9.257800e+01  4.005192e+01  1.397432e+02  1.210275e+02  8.534644e+01\n"
     ]
    }
   ],
   "source": [
    "data = data.T\n",
    "print(data)"
   ]
  },
  {
   "cell_type": "code",
   "execution_count": 22,
   "id": "9000ad3c",
   "metadata": {},
   "outputs": [
    {
     "name": "stdout",
     "output_type": "stream",
     "text": [
      "CA     92.578000\n",
      "TX     40.051916\n",
      "NY    139.743158\n",
      "FL    121.027520\n",
      "IL     85.346438\n",
      "Name: density, dtype: float64\n",
      "139.74315802883288\n"
     ]
    }
   ],
   "source": [
    "data = data.T\n",
    "data = data['density']\n",
    "print(data)\n",
    "print(data.iloc[2])"
   ]
  },
  {
   "cell_type": "code",
   "execution_count": 33,
   "id": "b710316d",
   "metadata": {},
   "outputs": [],
   "source": [
    "#print(data['popu']['CA'])\n",
    "#print(data.loc[data.popu>100, ['popu','density']])"
   ]
  },
  {
   "cell_type": "code",
   "execution_count": null,
   "id": "ae02aed1",
   "metadata": {},
   "outputs": [],
   "source": []
  },
  {
   "cell_type": "code",
   "execution_count": null,
   "id": "c3cc4849",
   "metadata": {},
   "outputs": [],
   "source": []
  }
 ],
 "metadata": {
  "kernelspec": {
   "display_name": "Python 3 (ipykernel)",
   "language": "python",
   "name": "python3"
  },
  "language_info": {
   "codemirror_mode": {
    "name": "ipython",
    "version": 3
   },
   "file_extension": ".py",
   "mimetype": "text/x-python",
   "name": "python",
   "nbconvert_exporter": "python",
   "pygments_lexer": "ipython3",
   "version": "3.11.7"
  }
 },
 "nbformat": 4,
 "nbformat_minor": 5
}

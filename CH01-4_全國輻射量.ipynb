{
 "cells": [
  {
   "cell_type": "raw",
   "id": "b84d4a94",
   "metadata": {},
   "source": [
    "• 監測站、\n",
    "• 監測站(英文)、\n",
    "• 監測值(微西弗/時)、 • 時間、\n",
    "• GPS經度、\n",
    "• GPS緯度\n",
    "\n",
    "＝ 監測值(微西弗/時) 代表的意義 多少超標 低標\n",
    "\n",
    "那些監測站超標\n",
    "哪個監測站值最高\n",
    "同一緯度監測值比較\n",
    "哪一個監測站低標\n",
    "定義監測值（高，中，低）做分類（group by)\n",
    "總共有幾個測站"
   ]
  }
 ],
 "metadata": {
  "kernelspec": {
   "display_name": "Python 3 (ipykernel)",
   "language": "python",
   "name": "python3"
  },
  "language_info": {
   "codemirror_mode": {
    "name": "ipython",
    "version": 3
   },
   "file_extension": ".py",
   "mimetype": "text/x-python",
   "name": "python",
   "nbconvert_exporter": "python",
   "pygments_lexer": "ipython3",
   "version": "3.11.7"
  }
 },
 "nbformat": 4,
 "nbformat_minor": 5
}
